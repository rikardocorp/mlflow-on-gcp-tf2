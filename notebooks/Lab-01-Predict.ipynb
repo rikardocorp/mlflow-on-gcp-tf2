{
 "cells": [
  {
   "cell_type": "markdown",
   "metadata": {},
   "source": [
    "# IMPORT"
   ]
  },
  {
   "cell_type": "code",
   "execution_count": 1,
   "metadata": {},
   "outputs": [],
   "source": [
    "import googleapiclient.discovery\n",
    "from google.oauth2 import service_account"
   ]
  },
  {
   "cell_type": "markdown",
   "metadata": {},
   "source": [
    "# CREDENTIALS"
   ]
  },
  {
   "cell_type": "code",
   "execution_count": 2,
   "metadata": {},
   "outputs": [],
   "source": [
    "servicejson = '../ia-program-instructors-be96a3b74b23.json'\n",
    "scopes = ['https://www.googleapis.com/auth/cloud-platform']\n",
    "credentials = service_account.Credentials.from_service_account_file(servicejson, scopes=scopes)"
   ]
  },
  {
   "cell_type": "markdown",
   "metadata": {},
   "source": [
    "# FUNCTIONS"
   ]
  },
  {
   "cell_type": "code",
   "execution_count": 3,
   "metadata": {},
   "outputs": [],
   "source": [
    "def predict_json(project, model, instances, version=None, credentials=None):\n",
    "\n",
    "    service = googleapiclient.discovery.build('ml', 'v1', credentials=credentials)\n",
    "    name = 'projects/{}/models/{}'.format(project, model)\n",
    "\n",
    "    if version is not None:\n",
    "        name += '/versions/{}'.format(version)\n",
    "\n",
    "    response = service.projects().predict(\n",
    "        name=name,\n",
    "        body={'instances': instances}\n",
    "    ).execute()\n",
    "\n",
    "    if 'error' in response:\n",
    "        raise RuntimeError(response['error'])\n",
    "\n",
    "    return response['predictions']"
   ]
  },
  {
   "cell_type": "markdown",
   "metadata": {},
   "source": [
    "# PREDICT"
   ]
  },
  {
   "cell_type": "code",
   "execution_count": 4,
   "metadata": {},
   "outputs": [],
   "source": [
    "MODEL_NAME= 'mlflow'\n",
    "# VERSION_NAME= 'mlflow_test1'\n",
    "REGION= 'us-central1'\n",
    "PROJECT_ID= 'ia-program-instructors'"
   ]
  },
  {
   "cell_type": "code",
   "execution_count": 13,
   "metadata": {},
   "outputs": [],
   "source": [
    "instances = [\n",
    "    [0.8, 1.1, .2, .1, 0.0, 1.1, 2.2,1.1,0.0, 1.1,.2],\n",
    "    [0.5, 1.1, .2, 1.1, 0.0, 1.1, 2.2,1.1,0.0, 1.1,.2],\n",
    "    [1.0, .1, 1.2, .1, 1.0, 1.1, 2.2,1.1,0.0, 1.1,1.2],\n",
    "]"
   ]
  },
  {
   "cell_type": "code",
   "execution_count": 14,
   "metadata": {},
   "outputs": [
    {
     "data": {
      "text/plain": [
       "[{'dense_4': [0.9999997615814209]},\n",
       " {'dense_4': [0.9999929666519165]},\n",
       " {'dense_4': [1.0]}]"
      ]
     },
     "execution_count": 14,
     "metadata": {},
     "output_type": "execute_result"
    }
   ],
   "source": [
    "predict_json(PROJECT_ID, MODEL_NAME, instances, credentials=credentials)"
   ]
  },
  {
   "cell_type": "code",
   "execution_count": null,
   "metadata": {},
   "outputs": [],
   "source": []
  }
 ],
 "metadata": {
  "kernelspec": {
   "display_name": "Python 3",
   "language": "python",
   "name": "python3"
  },
  "language_info": {
   "codemirror_mode": {
    "name": "ipython",
    "version": 3
   },
   "file_extension": ".py",
   "mimetype": "text/x-python",
   "name": "python",
   "nbconvert_exporter": "python",
   "pygments_lexer": "ipython3",
   "version": "3.7.9"
  }
 },
 "nbformat": 4,
 "nbformat_minor": 4
}
